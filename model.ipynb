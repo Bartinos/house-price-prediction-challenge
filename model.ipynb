{
 "cells": [
  {
   "cell_type": "code",
   "execution_count": null,
   "metadata": {},
   "outputs": [],
   "source": [
    "import pandas as pd\n",
    "import matplotlib.pyplot as plt\n",
    "import numpy as np\n",
    "from sklearn.linear_model import LinearRegression\n",
    "from sklearn.metrics import mean_squared_error\n",
    "from sklearn.model_selection import train_test_split, cross_val_score, KFold\n",
    "\n"
   ]
  },
  {
   "cell_type": "code",
   "execution_count": null,
   "metadata": {},
   "outputs": [],
   "source": [
    "# df = pd.read_csv(\"train.csv\")\n",
    "df = pd.read_csv(\"train.csv\", index_col=0)\n",
    "df"
   ]
  },
  {
   "cell_type": "code",
   "execution_count": null,
   "metadata": {},
   "outputs": [],
   "source": [
    "#Filter feature data\n",
    "X_final = pd.DataFrame()\n",
    "\n",
    "df = df.drop('Fence', axis=1)  \n",
    "df = df.drop('Alley', axis=1)  \n",
    "df = df.drop('PoolQC', axis=1)\n",
    "df = df.drop('MiscFeature', axis=1)\n",
    "df = df.drop('FireplaceQu', axis=1)\n",
    "\n",
    "df[\"LotFrontage\"] = df[\"LotFrontage\"].fillna(df[\"LotFrontage\"].mean())\n",
    "df[\"MasVnrArea\"] = df[\"MasVnrArea\"].fillna(df[\"MasVnrArea\"].mean())\n",
    "df[\"GarageYrBlt\"] = df[\"GarageYrBlt\"].fillna(2001)\n",
    "\n",
    "df['BsmtExposure'] = df['BsmtExposure'].fillna(df['BsmtExposure'].mode()[0])\n",
    "df['BsmtQual'] = df['BsmtQual'].fillna(df['BsmtQual'].mode()[0])\n",
    "df['BsmtCond'] = df['BsmtCond'].fillna(df['BsmtCond'].mode()[0])\n",
    "\n",
    "df['GarageCond'] = df['GarageCond'].fillna(df['GarageCond'].mode()[0])\n",
    "df['GarageQual'] = df['GarageQual'].fillna(df['GarageQual'].mode()[0])\n",
    "df['GarageType'] = df['GarageType'].fillna(df['GarageType'].mode()[0])\n",
    "df['GarageFinish'] = df['GarageFinish'].fillna(df['GarageFinish'].mode()[0])\n",
    "\n",
    "df['BsmtFinType1'] = df['BsmtFinType1'].fillna(df['BsmtFinType1'].mode()[0])\n",
    "df['BsmtFinType2'] = df['BsmtFinType2'].fillna(df['BsmtFinType2'].mode()[0])\n",
    "\n",
    "df['Electrical'] = df['Electrical'].fillna(df['Electrical'].mode()[0])\n",
    "df['MasVnrType'] = df['MasVnrType'].fillna(df['MasVnrType'].mode()[0])\n",
    "\n",
    "drop_index = df[(df[\"SalePrice\"] < 200000) & (df[\"OverallQual\"] > 8) & (df[\"GrLivArea\"] > 4000)].index\n",
    "df = df.drop(drop_index, axis = 0)\n",
    "\n",
    "y = df[\"SalePrice\"].values\n",
    "# df = df[[\"Neighborhood\"]]\n",
    "df = df.drop('SalePrice', axis=1)\n",
    "# df = df.drop('Id', axis=1)\n",
    "print(df.columns)\n",
    "df[\"MSSubClass\"] = list(map(lambda sub_class: \"MS_\" + str(sub_class) , df[\"MSSubClass\"])) #Remap sub_class to strings for one hot encoding\n"
   ]
  },
  {
   "cell_type": "code",
   "execution_count": null,
   "metadata": {},
   "outputs": [],
   "source": [
    "\n",
    "#Do one hot encoding for every column specified in ohe_list\n",
    "for column in df.columns:\n",
    "    selected_column = df[[column]]\n",
    "    c_type = type(selected_column.iloc[0, 0])\n",
    "    print(str(column) + \" of type \" + str(c_type))\n",
    "    if c_type == str or column == \"MSSubClass\":\n",
    "        # print(\"Detected string collumn: \" + column)\n",
    "        ohe_df = pd.get_dummies(selected_column, prefix=column, drop_first=True)\n",
    "        X_final = ohe_df.join(X_final)\n",
    "    elif c_type == np.int16 or c_type == np.int32 or c_type == np.int64 or c_type == np.float16 or c_type == np.float32 or c_type == np.float64:\n",
    "        X_final = selected_column.join(X_final)\n",
    "    else:\n",
    "        raise ValueError\n",
    "\n",
    "\n",
    "        \n",
    "    print(X_final)\n",
    "    # print(ohe_df)\n",
    "\n",
    "X = X_final.values\n",
    "# X_final.to_csv(\"temp.csv\")\n",
    "print(X.shape)\n",
    "\n"
   ]
  },
  {
   "cell_type": "code",
   "execution_count": null,
   "metadata": {},
   "outputs": [],
   "source": [
    "#Split train and test data\n",
    "print(\"X: \" + str(X.shape) + \" y: \" + str(y.shape))\n",
    "# X_train, X_test, y_train, y_test = train_test_split(X, y, test_size=0.25)\n",
    "\n",
    "# print(X_train.shape)\n",
    "# print(type(X_train))\n",
    "\n",
    "# X_train = X_train.reshape(-1, 2)\n",
    "# print(X_train.shape)\n",
    "\n",
    "# X_test = X_test.reshape(-1, 1)\n",
    "\n",
    "# \"x_train size: \" + str(X_train.size) + \" y_train size: \" + str(y_train.size) \n",
    "\n"
   ]
  },
  {
   "cell_type": "code",
   "execution_count": null,
   "metadata": {},
   "outputs": [],
   "source": [
    "#Train LinearRegression model\n",
    "reg = LinearRegression()\n"
   ]
  },
  {
   "cell_type": "code",
   "execution_count": null,
   "metadata": {},
   "outputs": [],
   "source": [
    "#Evaluate results\n",
    "kf = KFold(n_splits=10, shuffle=True)\n",
    "cv_scores = cross_val_score(reg, X, y, cv=kf)\n",
    "cv_mean = np.mean(cv_scores)\n",
    "\n",
    "# print(\"Mean squared error: \" + str(rmse))\n",
    "# print(\"Root squared error: \" + str(r_squared))\n",
    "print(\"Scores 10-fold CV: \" + str(cv_scores))\n",
    "print(\"Mean 10-fold CV: \" + str(cv_mean))\n",
    "\n"
   ]
  },
  {
   "cell_type": "code",
   "execution_count": null,
   "metadata": {},
   "outputs": [],
   "source": [
    "#Before evaluating on history, retrieve the history\n",
    "\n",
    "history = pd.DataFrame(columns=[\"Attempt\", \"mean_cv\", \"rmse\"] );\n",
    "try:\n",
    "    history = pd.read_csv(\"history.csv\")\n",
    "    print(\"Found history.csv with rows amount: \" + str(history.shape[0]))\n",
    "except FileNotFoundError:\n",
    "    print(\"history.csv not found, creating new one\")\n",
    "    history.to_csv('history.csv', index = False)\n"
   ]
  },
  {
   "cell_type": "code",
   "execution_count": null,
   "metadata": {},
   "outputs": [],
   "source": [
    "#Evaluate based on history and visualize progress\n",
    "\n",
    "current_attempt = int(len(history.index))\n",
    "history.loc[len(history.index)] = [current_attempt, cv_mean, int(-1)]\n",
    "print(history[-5:-1])\n",
    "print(\"Current attempt: \\n\", history[-1:])\n",
    "history.to_csv('history.csv', index = False)\n",
    "\n",
    "plt.plot(history[\"Attempt\"], history[\"mean_cv\"])\n",
    "\n",
    "plt.xlabel(\"Attempts (current: {:.0f}\".format(current_attempt) + \")\")\n",
    "plt.xlim(0, np.size(history[\"Attempt\"].values))\n",
    "# plt.ylim(min_r_squared - visual_margin, max_r_squared + visual_margin)\n",
    "plt.ylabel(\"Mean cross_val_score (current: {:.2f}\".format(cv_mean) + \")\")\n",
    "plt.ylim(0, 1)\n",
    "plt.title(\"10f Cross-Validation score progress\")\n",
    "plt.show()\n"
   ]
  }
 ],
 "metadata": {
  "kernelspec": {
   "display_name": "Python 3.10.1 64-bit",
   "language": "python",
   "name": "python3"
  },
  "language_info": {
   "codemirror_mode": {
    "name": "ipython",
    "version": 3
   },
   "file_extension": ".py",
   "mimetype": "text/x-python",
   "name": "python",
   "nbconvert_exporter": "python",
   "pygments_lexer": "ipython3",
   "version": "3.10.1"
  },
  "orig_nbformat": 4,
  "vscode": {
   "interpreter": {
    "hash": "12fdc936a54ce685e4c9b2f8277f7451ffeec2cb8757075b37386f7baad81d01"
   }
  }
 },
 "nbformat": 4,
 "nbformat_minor": 2
}
