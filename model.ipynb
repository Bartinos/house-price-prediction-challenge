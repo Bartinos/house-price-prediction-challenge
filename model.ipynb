{
 "cells": [
  {
   "cell_type": "code",
   "execution_count": null,
   "metadata": {},
   "outputs": [],
   "source": [
    "import pandas as pd\n",
    "import matplotlib.pyplot as plt\n",
    "import numpy as np\n",
    "from sklearn.linear_model import LinearRegression\n",
    "from sklearn.metrics import mean_squared_error\n",
    "from sklearn.model_selection import train_test_split, cross_val_score, KFold\n",
    "from sklearn.preprocessing import OneHotEncoder\n",
    "\n"
   ]
  },
  {
   "cell_type": "code",
   "execution_count": null,
   "metadata": {},
   "outputs": [],
   "source": [
    "df = pd.read_csv(\"train.csv\", index_col=0)\n",
    "df"
   ]
  },
  {
   "cell_type": "code",
   "execution_count": null,
   "metadata": {},
   "outputs": [],
   "source": [
    "#Filter feature data\n",
    "X_unproc = df[[\"LotArea\",\"YrSold\"]]\n",
    "ohe_list = [\"Neighborhood\"]\n",
    "X_final = pd.DataFrame()\n",
    "\n",
    "#Do one hot encoding for every collumn specified in ohe_list\n",
    "for collumn in ohe_list:\n",
    "    pre_ohe_df = df[[collumn]]\n",
    "    ohe_df = pd.get_dummies(pre_ohe_df, prefix=collumn)\n",
    "    X_final = ohe_df.join(X_final)\n",
    "    # print(X_final)\n",
    "    # print(ohe_df)\n",
    "\n",
    "# print(X)\n",
    "# X[\"YrSold\"] = list(map(lambda year: year - 2006, df[\"YrSold\"])) #example of remapping column values \n",
    "# print(list(X[\"YrSold\"]))\n",
    "X_final = X_unproc.join(X_final)\n",
    "# X_final.to_csv(\"temp.csv\")\n",
    "X = X_final.values\n",
    "\n",
    "\n",
    "y = df[\"SalePrice\"].values\n",
    "print(X.shape)\n",
    "# print(y.shape)\n",
    "# # X = X.reshape(1460, 54)\n",
    "# print(X.shape)\n",
    "\n",
    "\n"
   ]
  },
  {
   "cell_type": "code",
   "execution_count": null,
   "metadata": {},
   "outputs": [],
   "source": [
    "#Split train and test data\n",
    "X_train, X_test, y_train, y_test = train_test_split(X, y, test_size=0.3)\n",
    "\n",
    "print(X_train.shape)\n",
    "\n",
    "# X_train = X_train.reshape(-1, 2)\n",
    "# print(X_train.shape)\n",
    "\n",
    "# X_test = X_test.reshape(-1, 1)\n",
    "\n",
    "# \"x_train size: \" + str(X_train.size) + \" y_train size: \" + str(y_train.size) \n",
    "\n"
   ]
  },
  {
   "cell_type": "code",
   "execution_count": null,
   "metadata": {},
   "outputs": [],
   "source": [
    "#Train LinearRegression model\n",
    "reg = LinearRegression()\n",
    "reg.fit(X_train, y_train)\n"
   ]
  },
  {
   "cell_type": "code",
   "execution_count": null,
   "metadata": {},
   "outputs": [],
   "source": [
    "#Evaluate results\n",
    "# X_test = X_test.reshape(-1, 2)\n",
    "print(X_test.shape)\n",
    "y_pred = reg.predict(X_test)\n",
    "r_squared = reg.score(X_test, y_test)\n",
    "rmse = mean_squared_error(y_test, y_pred, squared=False)\n",
    "\n",
    "kf = KFold(n_splits=6, shuffle=True)\n",
    "cv_scores = cross_val_score(reg, X, y, cv=kf)\n",
    "cv_mean = np.mean(cv_scores)\n",
    "\n",
    "print(\"Mean squared error: \" + str(rmse))\n",
    "print(\"Root squared error: \" + str(r_squared))\n",
    "print(\"Mean 6-fold CV: \" + str(cv_mean))\n",
    "\n",
    "\n"
   ]
  },
  {
   "cell_type": "code",
   "execution_count": null,
   "metadata": {},
   "outputs": [],
   "source": [
    "#Before evaluating on history, retrieve the history\n",
    "\n",
    "history = pd.DataFrame(columns=[\"Attempt\", \"mean_cv\", \"rmse\"] );\n",
    "try:\n",
    "    history = pd.read_csv(\"history.csv\")\n",
    "    print(\"Found history.csv with rows amount: \" + str(history.shape[0]))\n",
    "except FileNotFoundError:\n",
    "    print(\"history.csv not found, creating new one\")\n",
    "    history.to_csv('history.csv', index = False)\n"
   ]
  },
  {
   "cell_type": "code",
   "execution_count": null,
   "metadata": {},
   "outputs": [],
   "source": [
    "#Evaluate based on history and visualize progress\n",
    "\n",
    "\n",
    "history.loc[len(history.index)] = [int(len(history.index)), cv_mean, int(rmse)]\n",
    "print(history[-5:-1])\n",
    "print(\"Current attempt: \", history[-1:])\n",
    "history.to_csv('history.csv', index = False)\n",
    "\n",
    "plt.plot(history[\"Attempt\"], history[\"mean_cv\"])\n",
    "min_cv_mean = np.min(history[\"mean_cv\"].values)\n",
    "max_cv_mean = np.max(history[\"mean_cv\"].values)\n",
    "\n",
    "visual_margin = (max_cv_mean - min_cv_mean) * 0.5 + 0.001 #Makes the graph more eye friendly\n",
    "\n",
    "plt.xlim(0, np.size(history[\"Attempt\"].values))\n",
    "# plt.ylim(min_r_squared - visual_margin, max_r_squared + visual_margin)\n",
    "plt.ylim(0, 1)\n",
    "plt.show()\n"
   ]
  }
 ],
 "metadata": {
  "kernelspec": {
   "display_name": "Python 3.10.8 64-bit",
   "language": "python",
   "name": "python3"
  },
  "language_info": {
   "codemirror_mode": {
    "name": "ipython",
    "version": 3
   },
   "file_extension": ".py",
   "mimetype": "text/x-python",
   "name": "python",
   "nbconvert_exporter": "python",
   "pygments_lexer": "ipython3",
   "version": "3.10.8"
  },
  "orig_nbformat": 4,
  "vscode": {
   "interpreter": {
    "hash": "6dfd9a2f397d2409bfc19b43597bfa85f98f14251ece3d9ffa4569976ee80c50"
   }
  }
 },
 "nbformat": 4,
 "nbformat_minor": 2
}
