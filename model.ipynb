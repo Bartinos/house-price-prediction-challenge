{
 "cells": [
  {
   "cell_type": "markdown",
   "metadata": {},
   "source": [
    "<h1> House Price Prediction Challenge</h1>\n",
    "<h5> By Franke van der Vorm and Bart van Moorsel</h5>\n",
    "\n",
    "<p> Project House Price Prediction Challenge (HPPC) is a 4-day assignment given by Avans Hogeschool in the Data Science for the Smart Industry minor on 31/10/2022. The original challenge can be found on <a href=\"https://www.kaggle.com/competitions/house-prices-advanced-regression-techniques\">Kaggle</a>. The purpose of this challenge is to test the students ability to successfully make predictions based on historical data and evaluate the results. The given case of this challenge is to prediction house prices based on an unprepared dataset of around 80 columns and 1460 rows. This dataset can be found <a href=\"https://www.kaggle.com/competitions/house-prices-advanced-regression-techniques/data\">here</a>. </p>\n",
    "\n",
    "<p> This markdown is intended for demonstrating the solution made by the HPPC-team. On this page, every collection of cells will be described in a way that explains what has been done and why it has been done. The solution is structured in 4 sections:\n",
    "\n",
    "*   Importing the right modules\n",
    "*   Pre-processing the data\n",
    "*   Training the linear regression model\n",
    "*   Evaluating the model</p>\n",
    "\n",
    "<p> The chosen model for this assignment is a linear regression model. This model has been chosen because the target value is of numerical type, namely the price at which a house will be sold. In combination with an X amount of feature variables makes this a good option for linear regression.</p>"
   ]
  },
  {
   "cell_type": "markdown",
   "metadata": {},
   "source": [
    "<h3> Importing the right modules </h3>\n",
    "<p> Pandas and Numpy are used for efficient data manipulation. The machine learning module will be SKLearn, this will be used for fitting and evaluating the model. Lastly, matplotlib will be utilized for visualising the results. Next, the dataset will be loaded in and inspected. </p>"
   ]
  },
  {
   "cell_type": "code",
   "execution_count": 1202,
   "metadata": {},
   "outputs": [
    {
     "name": "stdout",
     "output_type": "stream",
     "text": [
      "      MSSubClass MSZoning  LotFrontage  LotArea Street Alley LotShape  \\\n",
      "Id                                                                      \n",
      "1             60       RL         65.0     8450   Pave   NaN      Reg   \n",
      "2             20       RL         80.0     9600   Pave   NaN      Reg   \n",
      "3             60       RL         68.0    11250   Pave   NaN      IR1   \n",
      "4             70       RL         60.0     9550   Pave   NaN      IR1   \n",
      "5             60       RL         84.0    14260   Pave   NaN      IR1   \n",
      "...          ...      ...          ...      ...    ...   ...      ...   \n",
      "1456          60       RL         62.0     7917   Pave   NaN      Reg   \n",
      "1457          20       RL         85.0    13175   Pave   NaN      Reg   \n",
      "1458          70       RL         66.0     9042   Pave   NaN      Reg   \n",
      "1459          20       RL         68.0     9717   Pave   NaN      Reg   \n",
      "1460          20       RL         75.0     9937   Pave   NaN      Reg   \n",
      "\n",
      "     LandContour Utilities LotConfig  ... PoolArea PoolQC  Fence MiscFeature  \\\n",
      "Id                                    ...                                      \n",
      "1            Lvl    AllPub    Inside  ...        0    NaN    NaN         NaN   \n",
      "2            Lvl    AllPub       FR2  ...        0    NaN    NaN         NaN   \n",
      "3            Lvl    AllPub    Inside  ...        0    NaN    NaN         NaN   \n",
      "4            Lvl    AllPub    Corner  ...        0    NaN    NaN         NaN   \n",
      "5            Lvl    AllPub       FR2  ...        0    NaN    NaN         NaN   \n",
      "...          ...       ...       ...  ...      ...    ...    ...         ...   \n",
      "1456         Lvl    AllPub    Inside  ...        0    NaN    NaN         NaN   \n",
      "1457         Lvl    AllPub    Inside  ...        0    NaN  MnPrv         NaN   \n",
      "1458         Lvl    AllPub    Inside  ...        0    NaN  GdPrv        Shed   \n",
      "1459         Lvl    AllPub    Inside  ...        0    NaN    NaN         NaN   \n",
      "1460         Lvl    AllPub    Inside  ...        0    NaN    NaN         NaN   \n",
      "\n",
      "     MiscVal MoSold  YrSold  SaleType  SaleCondition  SalePrice  \n",
      "Id                                                               \n",
      "1          0      2    2008        WD         Normal     208500  \n",
      "2          0      5    2007        WD         Normal     181500  \n",
      "3          0      9    2008        WD         Normal     223500  \n",
      "4          0      2    2006        WD        Abnorml     140000  \n",
      "5          0     12    2008        WD         Normal     250000  \n",
      "...      ...    ...     ...       ...            ...        ...  \n",
      "1456       0      8    2007        WD         Normal     175000  \n",
      "1457       0      2    2010        WD         Normal     210000  \n",
      "1458    2500      5    2010        WD         Normal     266500  \n",
      "1459       0      4    2010        WD         Normal     142125  \n",
      "1460       0      6    2008        WD         Normal     147500  \n",
      "\n",
      "[1460 rows x 80 columns]\n"
     ]
    }
   ],
   "source": [
    "import pandas as pd\n",
    "import numpy as np\n",
    "from sklearn.linear_model import LinearRegression\n",
    "from sklearn.metrics import mean_squared_error\n",
    "from sklearn.model_selection import train_test_split, cross_val_score, KFold\n",
    "import matplotlib.pyplot as plt\n",
    "\n",
    "df = pd.read_csv(\"train.csv\", index_col=0)\n",
    "print(df)"
   ]
  },
  {
   "cell_type": "markdown",
   "metadata": {},
   "source": [
    "<h3> Pre-processing the data </h3>\n",
    "<p> As mentioned before, the dataset is unprepared and not ready for fitting. This means that data will have to be pre-processed first. This requires a significant understanding of the data. The data-understanding of the HCCP team is documented in the <a href=\"\">data-understanding report</a>, which also describes how certain data is filtered. </p>\n",
    "\n",
    "<p> The raw data could be categorized in two categories; numerical data and categorical data. Both need a different approach. If there are no missing values for a categorical column, then it is ready for one-hot-encoding. In this coding section, the columns judged not to be worth it will be dropped first. Secondly, the numerical columns will be processed.</p>"
   ]
  },
  {
   "cell_type": "code",
   "execution_count": 1203,
   "metadata": {},
   "outputs": [],
   "source": [
    "# Pre-process data\n",
    "X_final = pd.DataFrame()\n",
    "\n",
    "# Drop columns\n",
    "df = df.drop('Fence', axis=1)  \n",
    "df = df.drop('Alley', axis=1)  \n",
    "df = df.drop('PoolQC', axis=1)\n",
    "df = df.drop('MiscFeature', axis=1)\n",
    "df = df.drop('FireplaceQu', axis=1)\n",
    "\n",
    "# Replace null values\n",
    "df[\"LotFrontage\"] = df[\"LotFrontage\"].fillna(df[\"LotFrontage\"].mean())\n",
    "df[\"MasVnrArea\"] = df[\"MasVnrArea\"].fillna(df[\"MasVnrArea\"].mean())\n",
    "df[\"GarageYrBlt\"] = df[\"GarageYrBlt\"].fillna(2001)\n",
    "\n",
    "df['BsmtExposure'] = df['BsmtExposure'].fillna(df['BsmtExposure'].mode()[0])\n",
    "df['BsmtQual'] = df['BsmtQual'].fillna(df['BsmtQual'].mode()[0])\n",
    "df['BsmtCond'] = df['BsmtCond'].fillna(df['BsmtCond'].mode()[0])\n",
    "\n",
    "df['GarageCond'] = df['GarageCond'].fillna(df['GarageCond'].mode()[0])\n",
    "df['GarageQual'] = df['GarageQual'].fillna(df['GarageQual'].mode()[0])\n",
    "df['GarageType'] = df['GarageType'].fillna(df['GarageType'].mode()[0])\n",
    "df['GarageFinish'] = df['GarageFinish'].fillna(df['GarageFinish'].mode()[0])\n",
    "\n",
    "df['BsmtFinType1'] = df['BsmtFinType1'].fillna(df['BsmtFinType1'].mode()[0])\n",
    "df['BsmtFinType2'] = df['BsmtFinType2'].fillna(df['BsmtFinType2'].mode()[0])\n",
    "\n",
    "df['Electrical'] = df['Electrical'].fillna(df['Electrical'].mode()[0])\n",
    "df['MasVnrType'] = df['MasVnrType'].fillna(df['MasVnrType'].mode()[0])\n",
    "\n",
    "# Remove rows with outliers\n",
    "drop_index = df[(df[\"SalePrice\"] < 200000) & (df[\"OverallQual\"] > 8) & (df[\"GrLivArea\"] > 4000)].index\n",
    "df = df.drop(drop_index, axis = 0)"
   ]
  },
  {
   "cell_type": "markdown",
   "metadata": {},
   "source": [
    "<p> MSSubClass will by default be recognized as a numerical column as it exists out of numbers, however, the numbers represent categories and thus should not be considered as a linear feature. Therefore, it will be formatted as a string.</p>"
   ]
  },
  {
   "cell_type": "code",
   "execution_count": 1204,
   "metadata": {},
   "outputs": [],
   "source": [
    "# Prepare data for one hot encoding\n",
    "df[\"MSSubClass\"] = list(map(lambda sub_class: \"MS_\" + str(sub_class) , df[\"MSSubClass\"])) # Remap sub_class to strings for one hot encoding\n",
    "\n",
    "# Separate feature and target data\n",
    "y = df[\"SalePrice\"].values\n",
    "df = df.drop('SalePrice', axis=1)"
   ]
  },
  {
   "cell_type": "markdown",
   "metadata": {},
   "source": [
    "<p> In this section, one hot encoding will be applied to all columns of type string. The resulting one hot encoded data will be joined with the processed data, X_final. </p>"
   ]
  },
  {
   "cell_type": "code",
   "execution_count": 1205,
   "metadata": {},
   "outputs": [],
   "source": [
    "# Do one hot encoding for every string column\n",
    "for column in df.columns:\n",
    "    selected_column = df[[column]]\n",
    "    c_type = type(selected_column.iloc[0, 0])\n",
    "\n",
    "    if c_type == str:\n",
    "        ohe_df = pd.get_dummies(selected_column, prefix=column, drop_first=True)\n",
    "        X_final = ohe_df.join(X_final)\n",
    "    elif c_type == np.int16 or c_type == np.int32 or c_type == np.int64 or c_type == np.float16 or c_type == np.float32 or c_type == np.float64:\n",
    "        X_final = selected_column.join(X_final)\n",
    "    else:\n",
    "        raise ValueError\n",
    "\n",
    "X = X_final.values"
   ]
  },
  {
   "cell_type": "markdown",
   "metadata": {},
   "source": [
    "<h3> Training the linear regression model </h3>\n",
    "\n",
    "<p> Now that the data is clean, it can be used for training the model. Training and test data will be split by the train_test_split method from sklearn. The training ratio will be 75% 25%. After splitting, a linear regression model will be trained on the training data.</p>"
   ]
  },
  {
   "cell_type": "code",
   "execution_count": 1206,
   "metadata": {},
   "outputs": [
    {
     "data": {
      "text/html": [
       "<style>#sk-container-id-51 {color: black;background-color: white;}#sk-container-id-51 pre{padding: 0;}#sk-container-id-51 div.sk-toggleable {background-color: white;}#sk-container-id-51 label.sk-toggleable__label {cursor: pointer;display: block;width: 100%;margin-bottom: 0;padding: 0.3em;box-sizing: border-box;text-align: center;}#sk-container-id-51 label.sk-toggleable__label-arrow:before {content: \"▸\";float: left;margin-right: 0.25em;color: #696969;}#sk-container-id-51 label.sk-toggleable__label-arrow:hover:before {color: black;}#sk-container-id-51 div.sk-estimator:hover label.sk-toggleable__label-arrow:before {color: black;}#sk-container-id-51 div.sk-toggleable__content {max-height: 0;max-width: 0;overflow: hidden;text-align: left;background-color: #f0f8ff;}#sk-container-id-51 div.sk-toggleable__content pre {margin: 0.2em;color: black;border-radius: 0.25em;background-color: #f0f8ff;}#sk-container-id-51 input.sk-toggleable__control:checked~div.sk-toggleable__content {max-height: 200px;max-width: 100%;overflow: auto;}#sk-container-id-51 input.sk-toggleable__control:checked~label.sk-toggleable__label-arrow:before {content: \"▾\";}#sk-container-id-51 div.sk-estimator input.sk-toggleable__control:checked~label.sk-toggleable__label {background-color: #d4ebff;}#sk-container-id-51 div.sk-label input.sk-toggleable__control:checked~label.sk-toggleable__label {background-color: #d4ebff;}#sk-container-id-51 input.sk-hidden--visually {border: 0;clip: rect(1px 1px 1px 1px);clip: rect(1px, 1px, 1px, 1px);height: 1px;margin: -1px;overflow: hidden;padding: 0;position: absolute;width: 1px;}#sk-container-id-51 div.sk-estimator {font-family: monospace;background-color: #f0f8ff;border: 1px dotted black;border-radius: 0.25em;box-sizing: border-box;margin-bottom: 0.5em;}#sk-container-id-51 div.sk-estimator:hover {background-color: #d4ebff;}#sk-container-id-51 div.sk-parallel-item::after {content: \"\";width: 100%;border-bottom: 1px solid gray;flex-grow: 1;}#sk-container-id-51 div.sk-label:hover label.sk-toggleable__label {background-color: #d4ebff;}#sk-container-id-51 div.sk-serial::before {content: \"\";position: absolute;border-left: 1px solid gray;box-sizing: border-box;top: 0;bottom: 0;left: 50%;z-index: 0;}#sk-container-id-51 div.sk-serial {display: flex;flex-direction: column;align-items: center;background-color: white;padding-right: 0.2em;padding-left: 0.2em;position: relative;}#sk-container-id-51 div.sk-item {position: relative;z-index: 1;}#sk-container-id-51 div.sk-parallel {display: flex;align-items: stretch;justify-content: center;background-color: white;position: relative;}#sk-container-id-51 div.sk-item::before, #sk-container-id-51 div.sk-parallel-item::before {content: \"\";position: absolute;border-left: 1px solid gray;box-sizing: border-box;top: 0;bottom: 0;left: 50%;z-index: -1;}#sk-container-id-51 div.sk-parallel-item {display: flex;flex-direction: column;z-index: 1;position: relative;background-color: white;}#sk-container-id-51 div.sk-parallel-item:first-child::after {align-self: flex-end;width: 50%;}#sk-container-id-51 div.sk-parallel-item:last-child::after {align-self: flex-start;width: 50%;}#sk-container-id-51 div.sk-parallel-item:only-child::after {width: 0;}#sk-container-id-51 div.sk-dashed-wrapped {border: 1px dashed gray;margin: 0 0.4em 0.5em 0.4em;box-sizing: border-box;padding-bottom: 0.4em;background-color: white;}#sk-container-id-51 div.sk-label label {font-family: monospace;font-weight: bold;display: inline-block;line-height: 1.2em;}#sk-container-id-51 div.sk-label-container {text-align: center;}#sk-container-id-51 div.sk-container {/* jupyter's `normalize.less` sets `[hidden] { display: none; }` but bootstrap.min.css set `[hidden] { display: none !important; }` so we also need the `!important` here to be able to override the default hidden behavior on the sphinx rendered scikit-learn.org. See: https://github.com/scikit-learn/scikit-learn/issues/21755 */display: inline-block !important;position: relative;}#sk-container-id-51 div.sk-text-repr-fallback {display: none;}</style><div id=\"sk-container-id-51\" class=\"sk-top-container\"><div class=\"sk-text-repr-fallback\"><pre>LinearRegression()</pre><b>In a Jupyter environment, please rerun this cell to show the HTML representation or trust the notebook. <br />On GitHub, the HTML representation is unable to render, please try loading this page with nbviewer.org.</b></div><div class=\"sk-container\" hidden><div class=\"sk-item\"><div class=\"sk-estimator sk-toggleable\"><input class=\"sk-toggleable__control sk-hidden--visually\" id=\"sk-estimator-id-51\" type=\"checkbox\" checked><label for=\"sk-estimator-id-51\" class=\"sk-toggleable__label sk-toggleable__label-arrow\">LinearRegression</label><div class=\"sk-toggleable__content\"><pre>LinearRegression()</pre></div></div></div></div></div>"
      ],
      "text/plain": [
       "LinearRegression()"
      ]
     },
     "execution_count": 1206,
     "metadata": {},
     "output_type": "execute_result"
    }
   ],
   "source": [
    "# Split train and test data\n",
    "X_train, X_test, y_train, y_test = train_test_split(X, y, test_size=0.25)\n",
    "\n",
    "# Train LinearRegression model\n",
    "reg = LinearRegression()\n",
    "reg.fit(X_train, y_train)"
   ]
  },
  {
   "cell_type": "markdown",
   "metadata": {},
   "source": [
    "<h3> Evaluating the model </h3>\n",
    "\n",
    "<p> To determine if the model is valid, it will have to be evaluated. This will be done by calculating the mean squared error and by a 10-fold cross validation. Additionally, a root squared score is calculated to compare against the 10-fold cross validation.\n",
    "</p>"
   ]
  },
  {
   "cell_type": "code",
   "execution_count": 1207,
   "metadata": {},
   "outputs": [
    {
     "name": "stdout",
     "output_type": "stream",
     "text": [
      "Root squared score: 0.880685029142355\n",
      "Mean squared error: 28414.085366295993\n",
      "Scores 10-fold CV: [0.89086673 0.84665025 0.91706311 0.93406989 0.87591987 0.90308463\n",
      " 0.90510345 0.90116648 0.87351249 0.895704  ]\n",
      "Mean 10-fold CV: 0.8943140893403078\n"
     ]
    }
   ],
   "source": [
    "# Evaluate results\n",
    "kf = KFold(n_splits=10, shuffle=True)\n",
    "cv_scores = cross_val_score(reg, X, y, cv=kf)\n",
    "cv_mean = np.mean(cv_scores)\n",
    "\n",
    "y_pred = reg.predict(X_test)\n",
    "r_squared = reg.score(X_test, y_test)\n",
    "rmse = mean_squared_error(y_test, y_pred, squared=False)\n",
    "\n",
    "print(\"Root squared score: \" + str(r_squared))\n",
    "print(\"Mean squared error: \" + str(rmse))\n",
    "print(\"Scores 10-fold CV: \" + str(cv_scores))\n",
    "print(\"Mean 10-fold CV: \" + str(cv_mean))"
   ]
  },
  {
   "cell_type": "markdown",
   "metadata": {},
   "source": [
    "<p> To interpret if a model has been getting worse or better, it must be compared with its history. This coding section makes a history dataframe containing the attempt number and the previously mentioned mean_cv and mean squared error. If there already exists such dataframe locally, it will be loaded in, if not, it will be made. </p>"
   ]
  },
  {
   "cell_type": "code",
   "execution_count": 1208,
   "metadata": {},
   "outputs": [
    {
     "name": "stdout",
     "output_type": "stream",
     "text": [
      "Found history.csv with rows amount: 135\n"
     ]
    }
   ],
   "source": [
    "# Before evaluating on history, retrieve the history\n",
    "history = pd.DataFrame(columns=[\"Attempt\", \"mean_cv\", \"rmse\"] );\n",
    "try:\n",
    "    history = pd.read_csv(\"history.csv\")\n",
    "    print(\"Found history.csv with rows amount: \" + str(history.shape[0]))\n",
    "except FileNotFoundError:\n",
    "    print(\"history.csv not found, creating new one\")\n",
    "    history.to_csv('history.csv', index = False)\n"
   ]
  },
  {
   "cell_type": "markdown",
   "metadata": {},
   "source": [
    "<p> After the results get saved to history.csv, the history and the results will be displayed in a plot made with matplotlib. The plot shows an indication of progress and cross validation score but should not be taken too literally as the model could have been ran multiple times without changes or as the cross validation score has been calculated differently at certain attempts. The purpose is to see how certain changes affect the performance of the model. </p>"
   ]
  },
  {
   "cell_type": "code",
   "execution_count": 1209,
   "metadata": {},
   "outputs": [
    {
     "name": "stdout",
     "output_type": "stream",
     "text": [
      "     Attempt   mean_cv     rmse\n",
      "131    131.0  0.886344  23288.0\n",
      "132    132.0  0.895285  26139.0\n",
      "133    133.0  0.894341  25226.0\n",
      "134    134.0  0.892537  25437.0\n",
      "\n",
      "Current attempt: \n",
      "      Attempt   mean_cv     rmse\n",
      "135    135.0  0.894314  28414.0\n"
     ]
    },
    {
     "data": {
      "image/png": "[encoded data removed]",
      "text/plain": [
       "<Figure size 640x480 with 1 Axes>"
      ]
     },
     "metadata": {},
     "output_type": "display_data"
    }
   ],
   "source": [
    "# Evaluate based on history and visualize progress\n",
    "current_attempt = int(len(history.index))\n",
    "history.loc[len(history.index)] = [current_attempt, cv_mean, int(rmse)]\n",
    "print(history[-5:-1])\n",
    "print()\n",
    "print(\"Current attempt: \\n\", history.iloc[-1:])\n",
    "history.to_csv('history.csv', index = False)\n",
    "\n",
    "plt.plot(history[\"Attempt\"], history[\"mean_cv\"])\n",
    "\n",
    "plt.xlabel(\"Attempts (current: {:.0f}\".format(current_attempt) + \")\")\n",
    "plt.xlim(0, np.size(history[\"Attempt\"].values))\n",
    "plt.ylabel(\"Mean cross_val_score (current: {:.2f}\".format(cv_mean) + \")\")\n",
    "plt.ylim(0, 1)\n",
    "plt.title(\"10f Cross-Validation score progress\")\n",
    "plt.show()\n"
   ]
  }
 ],
 "metadata": {
  "kernelspec": {
   "display_name": "Python 3.10.1 64-bit",
   "language": "python",
   "name": "python3"
  },
  "language_info": {
   "codemirror_mode": {
    "name": "ipython",
    "version": 3
   },
   "file_extension": ".py",
   "mimetype": "text/x-python",
   "name": "python",
   "nbconvert_exporter": "python",
   "pygments_lexer": "ipython3",
   "version": "3.10.1"
  },
  "orig_nbformat": 4,
  "vscode": {
   "interpreter": {
    "hash": "12fdc936a54ce685e4c9b2f8277f7451ffeec2cb8757075b37386f7baad81d01"
   }
  }
 },
 "nbformat": 4,
 "nbformat_minor": 2
}
